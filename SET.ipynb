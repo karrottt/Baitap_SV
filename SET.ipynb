{
  "nbformat": 4,
  "nbformat_minor": 0,
  "metadata": {
    "colab": {
      "provenance": [],
      "collapsed_sections": [],
      "authorship_tag": "ABX9TyNtQN9/YvhK+VD5XfBU3S7w",
      "include_colab_link": true
    },
    "kernelspec": {
      "name": "python3",
      "display_name": "Python 3"
    },
    "language_info": {
      "name": "python"
    }
  },
  "cells": [
    {
      "cell_type": "markdown",
      "metadata": {
        "id": "view-in-github",
        "colab_type": "text"
      },
      "source": [
        "<a href=\"https://colab.research.google.com/github/karrottt/Baitap_SV/blob/main/SET.ipynb\" target=\"_parent\"><img src=\"https://colab.research.google.com/assets/colab-badge.svg\" alt=\"Open In Colab\"/></a>"
      ]
    },
    {
      "cell_type": "code",
      "execution_count": 5,
      "metadata": {
        "id": "MfNdRV0XoDlP"
      },
      "outputs": [],
      "source": [
        "A = set([\"NNLT Python\", \"Đại số tuyến tính\", \"Tiếng Anh chuyên ngành\", \"Thể dục\"])\n",
        "B = set([\"NNLT Python\", \"Đại số tuyến tính\", \"Tối ưu hóa\", \"Học Máy\", \"Học sâu\", \"Computer vision\", \"Natural Language Processing\", \"Recommender Systems\"])"
      ]
    },
    {
      "cell_type": "code",
      "source": [
        "print(A)\n",
        "print(B)"
      ],
      "metadata": {
        "colab": {
          "base_uri": "https://localhost:8080/"
        },
        "id": "vHXCrZsIo6Zs",
        "outputId": "7910d610-40a2-4ee2-b5f2-0c024938600c"
      },
      "execution_count": 13,
      "outputs": [
        {
          "output_type": "stream",
          "name": "stdout",
          "text": [
            "{'Thể dục', 'Tiếng Anh chuyên ngành', 'Đại số tuyến tính', 'NNLT Python'}\n",
            "{'Học Máy', 'Học sâu', 'NNLT Python', 'Natural Language Processing', 'Computer vision', 'Recommender Systems', 'Đại số tuyến tính', 'Tối ưu hóa'}\n"
          ]
        }
      ]
    },
    {
      "cell_type": "code",
      "source": [
        "print(\"A hop B:\", A.union(B))"
      ],
      "metadata": {
        "colab": {
          "base_uri": "https://localhost:8080/"
        },
        "id": "IFBXPZURppBE",
        "outputId": "813a4fee-b05e-41d7-b08f-60334af0e245"
      },
      "execution_count": 16,
      "outputs": [
        {
          "output_type": "stream",
          "name": "stdout",
          "text": [
            "A hop B: {'Tiếng Anh chuyên ngành', 'Học Máy', 'Học sâu', 'NNLT Python', 'Natural Language Processing', 'Computer vision', 'Recommender Systems', 'Đại số tuyến tính', 'Thể dục', 'Tối ưu hóa'}\n"
          ]
        }
      ]
    },
    {
      "cell_type": "code",
      "source": [
        "print(\"A giao B:\", A.intersection(B))"
      ],
      "metadata": {
        "colab": {
          "base_uri": "https://localhost:8080/"
        },
        "id": "2J0HzoC-pwPE",
        "outputId": "5d9e5bdb-a3e9-418b-92d6-5ece09fb9aa4"
      },
      "execution_count": 15,
      "outputs": [
        {
          "output_type": "stream",
          "name": "stdout",
          "text": [
            "A giao B: {'Đại số tuyến tính', 'NNLT Python'}\n"
          ]
        }
      ]
    },
    {
      "cell_type": "code",
      "source": [
        "print(\"A\\B:\", A.difference(B))\n",
        "print(\"B\\A:\", B.difference(A))"
      ],
      "metadata": {
        "colab": {
          "base_uri": "https://localhost:8080/"
        },
        "id": "Bhq612v8qCBN",
        "outputId": "f82bd930-b176-4f4c-b60e-9532a7df6f26"
      },
      "execution_count": 19,
      "outputs": [
        {
          "output_type": "stream",
          "name": "stdout",
          "text": [
            "A\\B: {'Thể dục', 'Tiếng Anh chuyên ngành'}\n",
            "B\\A: {'Học Máy', 'Học sâu', 'Natural Language Processing', 'Computer vision', 'Recommender Systems', 'Tối ưu hóa'}\n"
          ]
        }
      ]
    },
    {
      "cell_type": "code",
      "source": [
        "x = [1, 1, 1, 2, 2, 3, 3 ,3, 4 ,5 ,6, 7]\n",
        "print(x)"
      ],
      "metadata": {
        "colab": {
          "base_uri": "https://localhost:8080/"
        },
        "id": "DLoIPcuBqsiN",
        "outputId": "8016612e-7828-4af8-96a1-7c0d6fa2039a"
      },
      "execution_count": 21,
      "outputs": [
        {
          "output_type": "stream",
          "name": "stdout",
          "text": [
            "[1, 1, 1, 2, 2, 3, 3, 3, 4, 5, 6, 7]\n"
          ]
        }
      ]
    },
    {
      "cell_type": "code",
      "source": [
        "x = set(x)\n",
        "print(type(x))\n",
        "print(x)"
      ],
      "metadata": {
        "colab": {
          "base_uri": "https://localhost:8080/"
        },
        "id": "gc9Yl3biqzxd",
        "outputId": "c99dc575-238d-4d02-adc4-a557603ad60a"
      },
      "execution_count": 24,
      "outputs": [
        {
          "output_type": "stream",
          "name": "stdout",
          "text": [
            "<class 'set'>\n",
            "{1, 2, 3, 4, 5, 6, 7}\n"
          ]
        }
      ]
    }
  ]
}