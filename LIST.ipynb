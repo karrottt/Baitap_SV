{
  "nbformat": 4,
  "nbformat_minor": 0,
  "metadata": {
    "colab": {
      "provenance": [],
      "collapsed_sections": [],
      "authorship_tag": "ABX9TyPdx0mdL347b+QYSAfE1p+t",
      "include_colab_link": true
    },
    "kernelspec": {
      "name": "python3",
      "display_name": "Python 3"
    },
    "language_info": {
      "name": "python"
    }
  },
  "cells": [
    {
      "cell_type": "markdown",
      "metadata": {
        "id": "view-in-github",
        "colab_type": "text"
      },
      "source": [
        "<a href=\"https://colab.research.google.com/github/karrottt/Baitap_SV/blob/main/LIST.ipynb\" target=\"_parent\"><img src=\"https://colab.research.google.com/assets/colab-badge.svg\" alt=\"Open In Colab\"/></a>"
      ]
    },
    {
      "cell_type": "code",
      "execution_count": 1,
      "metadata": {
        "id": "ad1OM-j9hRTf"
      },
      "outputs": [],
      "source": [
        "x = []"
      ]
    },
    {
      "cell_type": "code",
      "source": [
        "x.append(18)"
      ],
      "metadata": {
        "id": "uhRWScZzheZD"
      },
      "execution_count": 2,
      "outputs": []
    },
    {
      "cell_type": "code",
      "source": [
        "x.append(\"Huế\")"
      ],
      "metadata": {
        "id": "IHqnecYqiH0a"
      },
      "execution_count": 4,
      "outputs": []
    },
    {
      "cell_type": "code",
      "source": [
        "y = [12, 45, -1, -0.56, \"abc\"]"
      ],
      "metadata": {
        "id": "o9XmhPmOiXU7"
      },
      "execution_count": 6,
      "outputs": []
    },
    {
      "cell_type": "code",
      "source": [
        "x.extend(y)"
      ],
      "metadata": {
        "id": "juWmdnmEibOL"
      },
      "execution_count": 9,
      "outputs": []
    },
    {
      "cell_type": "code",
      "source": [
        "print(x)"
      ],
      "metadata": {
        "colab": {
          "base_uri": "https://localhost:8080/"
        },
        "id": "vt4kw4qZiniq",
        "outputId": "b7162df3-0a89-444a-d972-e3ab636d84bf"
      },
      "execution_count": 10,
      "outputs": [
        {
          "output_type": "stream",
          "name": "stdout",
          "text": [
            "[18, 'Huế', 12, 45, -1, -0.56, 'abc']\n"
          ]
        }
      ]
    },
    {
      "cell_type": "code",
      "source": [
        "print(\"Gia tri phan tu cuoi:\", x[-1])\n",
        "print(\"Gia tri phan tu dau:\", x[0])"
      ],
      "metadata": {
        "colab": {
          "base_uri": "https://localhost:8080/"
        },
        "id": "P7Q6K90ni0o7",
        "outputId": "5a335d09-3678-4ab7-ed02-c52e6730ca66"
      },
      "execution_count": 11,
      "outputs": [
        {
          "output_type": "stream",
          "name": "stdout",
          "text": [
            "Gia tri phan tu cuoi: abc\n",
            "Gia tri phan tu dau: 18\n"
          ]
        }
      ]
    },
    {
      "cell_type": "code",
      "source": [
        "print(\"Gia tri cua phan tu dau tien den phan tu thu 5 cua x:\", x[:5])"
      ],
      "metadata": {
        "colab": {
          "base_uri": "https://localhost:8080/"
        },
        "id": "VC1VnXm8jHWj",
        "outputId": "9e2283c0-4b01-4463-d7d6-7420553ed312"
      },
      "execution_count": 17,
      "outputs": [
        {
          "output_type": "stream",
          "name": "stdout",
          "text": [
            "Gia tri cua phan tu dau tien den phan tu thu 5 cua x: [18, 'Huế', 12, 45, -1]\n"
          ]
        }
      ]
    },
    {
      "cell_type": "code",
      "source": [
        "print(\"Gia tri cua phan tu thu 3 den phan tu cuoi cung cua x:\",x[2:])"
      ],
      "metadata": {
        "colab": {
          "base_uri": "https://localhost:8080/"
        },
        "id": "UIxZ7sFnjmbb",
        "outputId": "9965cf02-182d-4f27-e4b4-a9eb12b8e861"
      },
      "execution_count": 18,
      "outputs": [
        {
          "output_type": "stream",
          "name": "stdout",
          "text": [
            "Gia tri cua phan tu thu 3 den phan tu cuoi cung cua x: [12, 45, -1, -0.56, 'abc']\n"
          ]
        }
      ]
    }
  ]
}